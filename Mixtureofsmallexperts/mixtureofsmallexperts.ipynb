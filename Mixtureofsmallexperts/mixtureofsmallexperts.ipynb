{
 "cells": [
  {
   "cell_type": "code",
   "execution_count": 1,
   "metadata": {},
   "outputs": [],
   "source": [
    "import torch\n",
    "from einops import rearrange,repeat\n",
    "import torch.nn as nn\n",
    "from timm.models.layers import DropPath, to_2tuple, trunc_normal_\n",
    "import math"
   ]
  },
  {
   "cell_type": "code",
   "execution_count": 2,
   "metadata": {},
   "outputs": [],
   "source": [
    "class lambda_ffn(nn.Module):\n",
    "    def __init__(self,input_size,hidden_dim,out_size):\n",
    "        super().__init__()\n",
    "        self.input_size=input_size\n",
    "        self.hidden_dim=hidden_dim\n",
    "        self.out_size=out_size\n",
    "\n",
    "        self.layer1=nn.Linear(self.input_size,self.hidden_dim)\n",
    "        self.layer2=nn.Linear(self.hidden_dim,self.hidden_dim)\n",
    "        self.layer3=nn.Linear(self.hidden_dim,self.out_size)\n",
    "\n",
    "        self.gelu=nn.GELU()\n",
    "        self.lamda=nn.Parameter(torch.normal(mean=0.0,std=1.0,size=(1,1)))\n",
    "        self.lamda.data.clamp_(-1,1)\n",
    "        self.x2=0\n",
    "\n",
    "        self._init_weights()\n",
    "    \n",
    "    def _init_weights(self):\n",
    "        nn.init.kaiming_normal_(self.layer1.weight,\n",
    "                                mode='fan_out',\n",
    "                                nonlinearity='leaky_relu')\n",
    "        nn.init.kaiming_normal_(self.layer2.weight,\n",
    "                                mode='fan_out',\n",
    "                                nonlinearity='leaky_relu')\n",
    "        nn.init.kaiming_normal_(self.layer2.weight,\n",
    "                                mode='fan_out',\n",
    "                                nonlinearity='leaky_relu')\n",
    "    def forward(self,x):\n",
    "        x=self.gelu(self.layer1(x))\n",
    "        x=self.gelu(self.layer2(x))\n",
    "        x=self.gelu(self.layer3(x))\n",
    "\n",
    "        x = self.lamda * x\n",
    "        self.x2=x\n",
    "        return x"
   ]
  },
  {
   "cell_type": "code",
   "execution_count": 3,
   "metadata": {},
   "outputs": [],
   "source": [
    "class MultiHeadedAttention(nn.Module):\n",
    "    def __init__(self,input_dim,num_heads,qkv_bias=True):\n",
    "        super().__init__()\n",
    "        self.input_dim=input_dim\n",
    "        self.dim=input_dim\n",
    "        self.num_heads=num_heads\n",
    "        \n",
    "        self.qkv_bias=qkv_bias\n",
    "\n",
    "        self.qkv_scale=self.dim\n",
    "\n",
    "        self.norm=nn.LayerNorm(self.dim)\n",
    "\n",
    "        self.qkv=nn.Linear(self.input_dim,self.dim*3,bias=self.qkv_bias)\n",
    "\n",
    "        \n",
    "    def forward(self,x):\n",
    "        \n",
    "        qkv=self.qkv(x)\n",
    "        values=rearrange(qkv,'b n (h d k)-> k b h n d',k=3,h=self.num_heads)\n",
    "        \n",
    "        q,k,v=tuple(values)\n",
    "\n",
    "        attn=torch.einsum('b h i d,b h j d -> b h i j',q,k)\n",
    "        \n",
    "        attn = attn * (self.qkv_scale**0.5)\n",
    "\n",
    "        attn = torch.einsum('b h i j, b h j d -> b h i d',attn,v)\n",
    "\n",
    "        return attn\n",
    "\n"
   ]
  },
  {
   "cell_type": "code",
   "execution_count": 44,
   "metadata": {},
   "outputs": [],
   "source": [
    "class Multiple_lamdaffn(nn.Module):\n",
    "    \n",
    "    def __init__(self,input_dim,hidden_dimension,n_experts):\n",
    "        super().__init__()\n",
    "        self.ffn_experts=nn.ModuleList([])\n",
    "        self.normlayer=nn.LayerNorm(input_dim)\n",
    "        self.n_experts=n_experts\n",
    "        self.w_ffn= nn.Parameter(torch.randn(self.n_experts,1),requires_grad=True)\n",
    "        for i in range(n_experts):\n",
    "            self.ffn_experts.append(\n",
    "                lambda_ffn(input_size=input_dim,hidden_dim=hidden_dimension,out_size=input_dim)\n",
    "            )\n",
    "        self.apply(self._init_weights)\n",
    "    \n",
    "    def _init_weights(self, m):\n",
    "        if isinstance(m, nn.Linear):\n",
    "            trunc_normal_(m.weight, std=.02)\n",
    "            if isinstance(m, nn.Linear) and m.bias is not None:\n",
    "                nn.init.constant_(m.bias, 0)\n",
    "        elif isinstance(m, nn.LayerNorm):\n",
    "            nn.init.constant_(m.bias, 0)\n",
    "            nn.init.constant_(m.weight, 1.0)\n",
    "        elif isinstance(m, nn.Conv2d):\n",
    "            fan_out = m.kernel_size[0] * m.kernel_size[1] * m.out_channels\n",
    "            fan_out //= m.groups\n",
    "            m.weight.data.normal_(0, math.sqrt(2.0 / fan_out))\n",
    "            if m.bias is not None:\n",
    "                m.bias.data.zero_()  \n",
    "    def forward(self,x):\n",
    "        x1=x\n",
    "        output=0\n",
    "        for i in range(self.n_experts):\n",
    "            if i==0:\n",
    "                output=rearrange(self.ffn_experts[i](x),pattern='b n d -> () b n d')\n",
    "            else:\n",
    "                output=torch.cat([output,rearrange(self.ffn_experts[i](x),pattern='b n d -> () b n d')],dim=0)\n",
    "        output=torch.einsum('e b n d, e o->b n d',output,self.w_ffn)\n",
    "        return x1 + output"
   ]
  },
  {
   "cell_type": "code",
   "execution_count": 45,
   "metadata": {},
   "outputs": [],
   "source": [
    "class patch_embedding(nn.Module):\n",
    "    def __init__(self,patch_size,inchannels,padding,out_dim,stride=None):\n",
    "        super().__init__()\n",
    "\n",
    "        print(patch_size,stride,padding)\n",
    "        self.conv=nn.Conv2d(\n",
    "                in_channels=inchannels,\n",
    "                out_channels=out_dim,\n",
    "                stride=stride,\n",
    "                kernel_size=patch_size,\n",
    "                padding=padding\n",
    "        )\n",
    "        self.layernorm=nn.LayerNorm(out_dim)\n",
    "        self.gelu=nn.GELU()\n",
    "        self.apply(self._init_weights)\n",
    "    \n",
    "    def _init_weights(self, m):\n",
    "        if isinstance(m, nn.Linear):\n",
    "            trunc_normal_(m.weight, std=.02)\n",
    "            if isinstance(m, nn.Linear) and m.bias is not None:\n",
    "                nn.init.constant_(m.bias, 0)\n",
    "        elif isinstance(m, nn.LayerNorm):\n",
    "            nn.init.constant_(m.bias, 0)\n",
    "            nn.init.constant_(m.weight, 1.0)\n",
    "        elif isinstance(m, nn.Conv2d):\n",
    "            fan_out = m.kernel_size[0] * m.kernel_size[1] * m.out_channels\n",
    "            fan_out //= m.groups\n",
    "            m.weight.data.normal_(0, math.sqrt(2.0 / fan_out))\n",
    "            if m.bias is not None:\n",
    "                m.bias.data.zero_()\n",
    "    def forward(self,x):\n",
    "        x=self.conv(x)\n",
    "        b,c,h,w= x.shape\n",
    "        x=self.gelu(x)\n",
    "        x=rearrange(x,'b c h w -> b (h w) c')\n",
    "        x=self.layernorm(x)\n",
    "        return x ,b,c,h,w"
   ]
  },
  {
   "cell_type": "code",
   "execution_count": 46,
   "metadata": {},
   "outputs": [],
   "source": [
    "class Block(nn.Module):\n",
    "\n",
    "    def __init__(self,image_size,input_dim,total_stages,num_heads,qkv_bias,mlp_ratio,n_experts,patch_size,padding,stride):\n",
    "        super().__init__()\n",
    "        self.input_dim=input_dim\n",
    "        self.num_heads=num_heads\n",
    "        self.total_stages=total_stages\n",
    "        self.qkv_bias=qkv_bias\n",
    "        self.mlp_ratio=mlp_ratio\n",
    "        self.n_experts=list(map(int,n_experts))\n",
    "\n",
    "        self.total_blocks=nn.ModuleList([])\n",
    "        self.patch_embedding=nn.ModuleList([])\n",
    "\n",
    "        self.padding=padding\n",
    "        self.stride=stride\n",
    "        self.patch_size=patch_size\n",
    "        for i in range(self.total_stages):\n",
    "            mlp_hidden=int(self.input_dim[i]*self.mlp_ratio[i])\n",
    "            if i==0:\n",
    "                out_dim=self.input_dim[i]\n",
    "                in_dim=3\n",
    "                self.height=(image_size-self.patch_size[i]+ 2*self.padding[i])//self.stride[i]\n",
    "                self.height+=1\n",
    "            else:\n",
    "                in_dim=self.input_dim[i-1]\n",
    "                out_dim=self.input_dim[i]\n",
    "                self.height = (self.height-self.patch_size[i]+ 2*self.padding[i])//self.stride[i]\n",
    "                self.height+=1\n",
    "\n",
    "\n",
    "            \n",
    "            current_block=nn.ModuleList([\n",
    "                patch_embedding(patch_size=self.patch_size[i],inchannels=in_dim,out_dim=out_dim,\n",
    "                                padding=self.padding[i],stride=self.stride[i]),\n",
    "\n",
    "                MultiHeadedAttention(input_dim=self.input_dim[i],\n",
    "                                     num_heads=self.num_heads[i],qkv_bias=self.qkv_bias),\n",
    "                Multiple_lamdaffn(input_dim=int(self.input_dim[i]),\n",
    "                                  hidden_dimension=mlp_hidden,\n",
    "                                  n_experts=self.n_experts[i])\n",
    "            ])\n",
    "            self.total_blocks.append(\n",
    "                current_block\n",
    "            )\n",
    "    \n",
    "    def forward(self,x):\n",
    "        i=0\n",
    "        for patch,attn,mlp in self.total_blocks:\n",
    "            print(x.shape)\n",
    "            x,b,c,h,w=patch(x)\n",
    "            x_attn=attn(x)\n",
    "            x_attn=rearrange(x_attn,'b h n c -> b n (c h)')\n",
    "            x_mlp=mlp(x_attn)\n",
    "            x=x_mlp\n",
    "            x=rearrange(x,'b (h w) d -> b d h w',h=h,w=w)\n",
    "            i+=1\n",
    "        return x\n"
   ]
  },
  {
   "cell_type": "code",
   "execution_count": 47,
   "metadata": {},
   "outputs": [
    {
     "name": "stdout",
     "output_type": "stream",
     "text": [
      "5 2 1\n",
      "3 2 0\n",
      "2 1 0\n"
     ]
    }
   ],
   "source": [
    "model=Block(\n",
    "    input_dim=[16,32,64],\n",
    "    total_stages=3,\n",
    "    num_heads=[2,4,8],\n",
    "    qkv_bias=True,\n",
    "    mlp_ratio=[2.0,3.0,3.0],\n",
    "    n_experts=[3.0,5.0,6.0],\n",
    "    patch_size=[5,3,2],\n",
    "    stride=[2,2,1],\n",
    "    padding=[1,0,0],\n",
    "    image_size=64\n",
    ")"
   ]
  },
  {
   "cell_type": "code",
   "execution_count": 48,
   "metadata": {},
   "outputs": [
    {
     "name": "stdout",
     "output_type": "stream",
     "text": [
      "torch.Size([1, 3, 32, 32])\n",
      "torch.Size([1, 16, 15, 15])\n",
      "torch.Size([1, 32, 7, 7])\n"
     ]
    },
    {
     "data": {
      "text/plain": [
       "torch.Size([1, 64, 6, 6])"
      ]
     },
     "execution_count": 48,
     "metadata": {},
     "output_type": "execute_result"
    }
   ],
   "source": [
    "model(torch.randn(1,3,32,32)).shape"
   ]
  },
  {
   "cell_type": "code",
   "execution_count": 49,
   "metadata": {},
   "outputs": [],
   "source": [
    "parameters=[i.numel() for i in model.parameters()]"
   ]
  },
  {
   "cell_type": "code",
   "execution_count": 50,
   "metadata": {},
   "outputs": [
    {
     "data": {
      "text/plain": [
       "486908"
      ]
     },
     "execution_count": 50,
     "metadata": {},
     "output_type": "execute_result"
    }
   ],
   "source": [
    "sum(parameters)"
   ]
  },
  {
   "cell_type": "code",
   "execution_count": 11,
   "metadata": {},
   "outputs": [],
   "source": [
    "model2=nn.Sequential(\n",
    "    nn.Linear(4096*3,4096),\n",
    "    nn.Linear(4096,4096),\n",
    "    nn.Linear(4096,100)\n",
    ")"
   ]
  },
  {
   "cell_type": "code",
   "execution_count": 12,
   "metadata": {},
   "outputs": [],
   "source": [
    "param=[i.numel() for i in model2.parameters()]"
   ]
  },
  {
   "cell_type": "code",
   "execution_count": 13,
   "metadata": {},
   "outputs": [
    {
     "data": {
      "text/plain": [
       "67526756"
      ]
     },
     "execution_count": 13,
     "metadata": {},
     "output_type": "execute_result"
    }
   ],
   "source": [
    "sum(param)"
   ]
  },
  {
   "cell_type": "code",
   "execution_count": 14,
   "metadata": {},
   "outputs": [
    {
     "data": {
      "text/plain": [
       "torch.nn.modules.flatten.Flatten"
      ]
     },
     "execution_count": 14,
     "metadata": {},
     "output_type": "execute_result"
    }
   ],
   "source": [
    "nn.Flatten"
   ]
  },
  {
   "cell_type": "code",
   "execution_count": 15,
   "metadata": {},
   "outputs": [],
   "source": [
    "model3=nn.Sequential(\n",
    "    nn.Conv2d(3,16,5),\n",
    "    nn.Conv2d(16,32,3),\n",
    "    nn.Conv2d(32,32,1),\n",
    "    nn.Flatten()\n",
    ")"
   ]
  },
  {
   "cell_type": "code",
   "execution_count": 16,
   "metadata": {},
   "outputs": [
    {
     "data": {
      "text/plain": [
       "6912"
      ]
     },
     "execution_count": 16,
     "metadata": {},
     "output_type": "execute_result"
    }
   ],
   "source": [
    "param=[i.numel() for i in model3.parameters()]\n",
    "sum(param)"
   ]
  },
  {
   "cell_type": "code",
   "execution_count": 17,
   "metadata": {},
   "outputs": [
    {
     "data": {
      "text/plain": [
       "<Axes: >"
      ]
     },
     "execution_count": 17,
     "metadata": {},
     "output_type": "execute_result"
    },
    {
     "data": {
      "image/png": "[encoded data removed]",
      "text/plain": [
       "<Figure size 640x480 with 1 Axes>"
      ]
     },
     "metadata": {},
     "output_type": "display_data"
    }
   ],
   "source": [
    "import seaborn as sns\n",
    "\n",
    "sns.barplot(\n",
    "    x=[450_000,522014,67526756],\n",
    "    y=['CNN','Transformer','MLP']\n",
    ")"
   ]
  },
  {
   "cell_type": "code",
   "execution_count": 18,
   "metadata": {},
   "outputs": [
    {
     "data": {
      "text/plain": [
       "0.007730476494383944"
      ]
     },
     "execution_count": 18,
     "metadata": {},
     "output_type": "execute_result"
    }
   ],
   "source": [
    "522014/67526756"
   ]
  },
  {
   "cell_type": "code",
   "execution_count": null,
   "metadata": {},
   "outputs": [],
   "source": []
  }
 ],
 "metadata": {
  "kernelspec": {
   "display_name": "Python 3",
   "language": "python",
   "name": "python3"
  },
  "language_info": {
   "codemirror_mode": {
    "name": "ipython",
    "version": 3
   },
   "file_extension": ".py",
   "mimetype": "text/x-python",
   "name": "python",
   "nbconvert_exporter": "python",
   "pygments_lexer": "ipython3",
   "version": "3.10.10"
  }
 },
 "nbformat": 4,
 "nbformat_minor": 2
}
