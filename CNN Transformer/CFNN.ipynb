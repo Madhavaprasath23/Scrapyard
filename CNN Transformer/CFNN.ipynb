{
 "cells": [
  {
   "cell_type": "code",
   "execution_count": 1,
   "metadata": {},
   "outputs": [],
   "source": [
    "import torch\n",
    "import torch.nn as nn\n",
    "import torch.nn.functional as F\n",
    "from torch.autograd import Variable\n",
    "import torchvision.models as models\n",
    "import torchvision.transforms as transforms\n",
    "import torchvision.datasets as datasets\n",
    "import torchvision.utils as vutils\n",
    "from einops import rearrange,repeat\n",
    "import math"
   ]
  },
  {
   "cell_type": "code",
   "execution_count": 17,
   "metadata": {},
   "outputs": [],
   "source": [
    "class CONVFFN(nn.Module):\n",
    "\n",
    "    def __init__(self,stride=1,in_channels=1,hidden_dimension=1):\n",
    "        super(CONVFFN,self).__init__()\n",
    "        self.stride=stride\n",
    "        self.in_channels=in_channels\n",
    "        self.hidden_dimension=hidden_dimension\n",
    "        self.act=nn.GELU()\n",
    "\n",
    "        # first block\n",
    "        self.dwconv1=nn.Conv2d(\n",
    "            in_channels= self.in_channels,\n",
    "            out_channels= self.in_channels,\n",
    "            kernel_size=3,\n",
    "            stride=1,\n",
    "            padding=1,\n",
    "            groups=self.in_channels\n",
    "\n",
    "        )\n",
    "        self.pwconv1=nn.Conv2d(\n",
    "            in_channels=self.in_channels,\n",
    "            out_channels= self.hidden_dimension,\n",
    "            kernel_size=1,\n",
    "            stride=1\n",
    "        )\n",
    "\n",
    "        self.norm1=nn.BatchNorm2d(self.hidden_dimension)\n",
    "        # second block \n",
    "\n",
    "        self.dwconv2=nn.Conv2d(\n",
    "            in_channels=self.hidden_dimension,\n",
    "            out_channels=self.hidden_dimension,\n",
    "            kernel_size=2,\n",
    "            stride=1,\n",
    "            groups=self.hidden_dimension\n",
    "        )\n",
    "        self.pwconv2=nn.Conv2d(\n",
    "            in_channels=self.hidden_dimension,\n",
    "            out_channels=self.hidden_dimension*2,\n",
    "            kernel_size=1,\n",
    "            stride=1,\n",
    "            padding=0\n",
    "        )\n",
    "\n",
    "        self.norm2=nn.BatchNorm2d(self.hidden_dimension*2)\n",
    "\n",
    "        #third block\n",
    "\n",
    "        self.dwconv3=nn.Conv2d(\n",
    "            in_channels=self.hidden_dimension*2,\n",
    "            out_channels=self.hidden_dimension*4,\n",
    "            kernel_size=2,\n",
    "            stride=1,\n",
    "            padding=1,\n",
    "            groups=self.hidden_dimension*2\n",
    "        )\n",
    "\n",
    "        self.pwconv3=nn.Conv2d(\n",
    "            in_channels=self.hidden_dimension*4,\n",
    "            out_channels=self.hidden_dimension*4,\n",
    "            kernel_size=1,\n",
    "            stride=1\n",
    "        )\n",
    "\n",
    "        self.norm3=nn.BatchNorm2d(self.hidden_dimension*4)\n",
    "\n",
    "        # down sample\n",
    "        self.downsample1=nn.Conv2d(\n",
    "            in_channels=self.hidden_dimension*4,\n",
    "            out_channels=self.hidden_dimension*4,\n",
    "            kernel_size=3,\n",
    "            padding=1,\n",
    "            groups=self.hidden_dimension*4\n",
    "        )\n",
    "\n",
    "        self.pwdsample1=nn.Conv2d(\n",
    "            in_channels=self.hidden_dimension*4,\n",
    "            out_channels=self.in_channels,\n",
    "            kernel_size=1\n",
    "        )\n",
    "\n",
    "        self.norm4=nn.BatchNorm2d(self.in_channels)\n",
    "\n",
    "        self.apply(self._init_weights)\n",
    "    \n",
    "    def _init_weights(self,m):\n",
    "        if isinstance(m, nn.Conv2d):\n",
    "            fan_out = m.kernel_size[0] * m.kernel_size[1] * m.out_channels\n",
    "            fan_out //= m.groups\n",
    "            m.weight.data.normal_(0, math.sqrt(2.0 / fan_out))\n",
    "            if m.bias is not None:\n",
    "                m.bias.data.zero_()\n",
    "    def forward(self,x,H,W):\n",
    "        x=rearrange(x,'b (H W) C -> b C H W',H=H,W=W)   # B N C -> B C H W\n",
    "\n",
    "        x1= self.dwconv1(x)                 # C -> 4*C\n",
    "        x1=self.pwconv1(x1)\n",
    "\n",
    "        x1=self.norm1(x1)\n",
    "        x1=self.act(x1)\n",
    "\n",
    "\n",
    "        x1=self.dwconv2(x1)                 # 4*C -> 6*C\n",
    "        x1=self.pwconv2(x1)\n",
    "\n",
    "\n",
    "        x1=self.norm2(x1)\n",
    "        x1=self.act(x1)\n",
    "\n",
    "\n",
    "\n",
    "        x1=self.dwconv3(x1)                 # 6*C -> 8*C\n",
    "        x1=self.pwconv3(x1)\n",
    "        \n",
    "        x1=self.norm3(x1)\n",
    "        x1=self.act(x1)\n",
    "\n",
    "\n",
    "\n",
    "        x1=self.downsample1(x1)             # 8*C -> C\n",
    "        x1=self.pwdsample1(x1)\n",
    "\n",
    "        x1=self.norm4(x1)\n",
    "        x1=self.act(x1)\n",
    "\n",
    "        print(x1.shape,x.shape)\n",
    "        x=x+x1\n",
    "\n",
    "        x=rearrange(x,'b c H W -> b (H W) c')\n",
    "\n",
    "        return x\n",
    "\n",
    "\n"
   ]
  },
  {
   "cell_type": "code",
   "execution_count": 24,
   "metadata": {},
   "outputs": [
    {
     "name": "stdout",
     "output_type": "stream",
     "text": [
      "torch.Size([32, 512, 56, 56]) torch.Size([32, 512, 56, 56])\n",
      "torch.Size([32, 4096, 55, 55]) torch.Size([32, 512, 56, 56])\n",
      "torch.Size([32, 8192, 56, 56]) torch.Size([32, 512, 56, 56])\n",
      "torch.Size([32, 512, 56, 56]) torch.Size([32, 512, 56, 56])\n"
     ]
    },
    {
     "data": {
      "text/plain": [
       "torch.Size([32, 3136, 512])"
      ]
     },
     "execution_count": 24,
     "metadata": {},
     "output_type": "execute_result"
    }
   ],
   "source": [
    "model=CONVFFN(in_channels=512,hidden_dimension=512*4)\n",
    "model(torch.rand(32,3136,512),56,56).shape"
   ]
  },
  {
   "cell_type": "code",
   "execution_count": 20,
   "metadata": {},
   "outputs": [],
   "source": [
    "total_params = sum(p.numel() for p in model.parameters())"
   ]
  },
  {
   "cell_type": "code",
   "execution_count": 22,
   "metadata": {},
   "outputs": [
    {
     "data": {
      "text/plain": [
       "18.1939968"
      ]
     },
     "execution_count": 22,
     "metadata": {},
     "output_type": "execute_result"
    }
   ],
   "source": [
    "total_params/10e6"
   ]
  },
  {
   "cell_type": "code",
   "execution_count": 7,
   "metadata": {},
   "outputs": [],
   "source": [
    "class CONVFFN(nn.Module):\n",
    "\n",
    "    def __init__(self,stride=1):\n",
    "        super(CONVFFN,self).__init__()\n",
    "        self.conv1 = nn.Conv1d(\n",
    "            in_channels=1,\n",
    "            kernel_size=7,\n",
    "            out_channels=1,\n",
    "            stride=stride,\n",
    "            groups=1,\n",
    "            padding=0\n",
    "        )\n",
    "\n",
    "        self.conv2=nn.Conv1d(\n",
    "            in_channels=1,\n",
    "            out_channels=1,\n",
    "            kernel_size=3,\n",
    "            stride=1,\n",
    "            padding=1\n",
    "        )\n",
    "\n",
    "        self.conv3=nn.Conv1d(\n",
    "            in_channels=1,\n",
    "            out_channels=1,\n",
    "            kernel_size=1,\n",
    "            stride=1,\n",
    "            padding=1\n",
    "        )\n",
    "        self.conv4=nn.Conv1d(\n",
    "            in_channels=1,\n",
    "            out_channels=1,\n",
    "            kernel_size=1,\n",
    "            stride=1,\n",
    "            padding=2\n",
    "        )\n",
    "\n",
    "        self.gelu=nn.GELU()\n",
    "    \n",
    "        self.init_weights()\n",
    "\n",
    "    def init_weights(self):\n",
    "        nn.init.kaiming_normal_(self.conv1.weight, mode='fan_out',nonlinearity='leaky_relu')\n",
    "        nn.init.kaiming_normal_(self.conv1.bias, mode='fan_out',nonlinearity='leaky_relu')\n",
    "        nn.init.kaiming_normal_(self.conv2.weight, mode='fan_out',nonlinearity='leaky_relu')\n",
    "        nn.init.kaiming_normal_(self.conv2.bias, mode='fan_out',nonlinearity='leaky_relu')\n",
    "        nn.init.kaiming_normal_(self.conv3.weight, mode='fan_out',nonlinearity='leaky_relu')\n",
    "        nn.init.kaiming_normal_(self.conv3.bias, mode='fan_out',nonlinearity='leaky_relu')\n",
    "        nn.init.kaiming_normal_(self.conv4.weight, mode='fan_out',nonlinearity='leaky_relu')\n",
    "        nn.init.kaiming_normal_(self.conv4.bias, mode='fan_out',nonlinearity='leaky_relu')\n",
    "    \n",
    "    def forward(self,x):\n",
    "        out=self.conv1(x)\n",
    "        out=self.gelu(out)\n",
    "        out=self.conv2(out)\n",
    "        out=self.gelu(out)\n",
    "        out=self.conv3(out)\n",
    "        out=self.gelu(out)\n",
    "        out=self.conv4(out)\n",
    "        return out"
   ]
  },
  {
   "cell_type": "code",
   "execution_count": 1,
   "metadata": {},
   "outputs": [],
   "source": [
    "import random\n",
    "c=0\n",
    "r=0\n",
    "for i in range(1_000_000):\n",
    "    r=random.random()\n",
    "    if r>0.5:\n",
    "        c+=1\n",
    "    else:\n",
    "        r+=1"
   ]
  },
  {
   "cell_type": "code",
   "execution_count": 4,
   "metadata": {},
   "outputs": [
    {
     "data": {
      "text/plain": [
       "0.500611"
      ]
     },
     "execution_count": 4,
     "metadata": {},
     "output_type": "execute_result"
    }
   ],
   "source": [
    "c/1_000_000"
   ]
  },
  {
   "cell_type": "code",
   "execution_count": 5,
   "metadata": {},
   "outputs": [
    {
     "data": {
      "text/plain": [
       "1.4222659786170484e-06"
      ]
     },
     "execution_count": 5,
     "metadata": {},
     "output_type": "execute_result"
    }
   ],
   "source": [
    "r/1_000_000"
   ]
  },
  {
   "cell_type": "code",
   "execution_count": 6,
   "metadata": {},
   "outputs": [
    {
     "data": {
      "text/plain": [
       "351981.2802432166"
      ]
     },
     "execution_count": 6,
     "metadata": {},
     "output_type": "execute_result"
    }
   ],
   "source": [
    "c/r"
   ]
  },
  {
   "cell_type": "code",
   "execution_count": null,
   "metadata": {},
   "outputs": [],
   "source": []
  }
 ],
 "metadata": {
  "kernelspec": {
   "display_name": "Python 3",
   "language": "python",
   "name": "python3"
  },
  "language_info": {
   "codemirror_mode": {
    "name": "ipython",
    "version": 3
   },
   "file_extension": ".py",
   "mimetype": "text/x-python",
   "name": "python",
   "nbconvert_exporter": "python",
   "pygments_lexer": "ipython3",
   "version": "3.10.10"
  },
  "orig_nbformat": 4
 },
 "nbformat": 4,
 "nbformat_minor": 2
}
